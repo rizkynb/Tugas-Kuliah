{
  "nbformat": 4,
  "nbformat_minor": 0,
  "metadata": {
    "colab": {
      "provenance": [],
      "mount_file_id": "1sqimNKNEOT7CX_lFMZU3A5xErGKg52aw",
      "authorship_tag": "ABX9TyO3oQmxBOgry4u5lCKorPxf",
      "include_colab_link": true
    },
    "kernelspec": {
      "name": "python3",
      "display_name": "Python 3"
    },
    "language_info": {
      "name": "python"
    }
  },
  "cells": [
    {
      "cell_type": "markdown",
      "metadata": {
        "id": "view-in-github",
        "colab_type": "text"
      },
      "source": [
        "<a href=\"https://colab.research.google.com/github/rizkynb/Tugas-Kuliah/blob/main/Tugas_2_Machine_Learning_Rizky_Nur_B.ipynb\" target=\"_parent\"><img src=\"https://colab.research.google.com/assets/colab-badge.svg\" alt=\"Open In Colab\"/></a>"
      ]
    },
    {
      "cell_type": "markdown",
      "source": [
        "#Import Library"
      ],
      "metadata": {
        "id": "y1VlBlB5zXoD"
      }
    },
    {
      "cell_type": "code",
      "execution_count": null,
      "metadata": {
        "id": "CbIqvTLoxi2i"
      },
      "outputs": [],
      "source": [
        "import pandas as pd\n",
        "import string, re     # re stands for regular expression"
      ]
    },
    {
      "cell_type": "code",
      "source": [
        "!pip install Sastrawi     # Library which can convert Indonesian affixed words into their base form\n",
        "from Sastrawi.Stemmer.StemmerFactory import StemmerFactory    # Stemming\n",
        "from Sastrawi.StopWordRemover.StopWordRemoverFactory import StopWordRemoverFactory    # Filtering"
      ],
      "metadata": {
        "colab": {
          "base_uri": "https://localhost:8080/"
        },
        "id": "K2V7aUf5ycvc",
        "outputId": "a3dbcc38-69f0-4a77-fe46-c7279a1a5b6f"
      },
      "execution_count": null,
      "outputs": [
        {
          "output_type": "stream",
          "name": "stdout",
          "text": [
            "Collecting Sastrawi\n",
            "  Downloading Sastrawi-1.0.1-py2.py3-none-any.whl (209 kB)\n",
            "\u001b[2K     \u001b[90m━━━━━━━━━━━━━━━━━━━━━━━━━━━━━━━━━━━━━━━━\u001b[0m \u001b[32m209.7/209.7 kB\u001b[0m \u001b[31m2.3 MB/s\u001b[0m eta \u001b[36m0:00:00\u001b[0m\n",
            "\u001b[?25hInstalling collected packages: Sastrawi\n",
            "Successfully installed Sastrawi-1.0.1\n"
          ]
        }
      ]
    },
    {
      "cell_type": "code",
      "source": [
        "from tqdm import tqdm   # Processing data\n",
        "tqdm.pandas()"
      ],
      "metadata": {
        "id": "z81Dj3xqyvke"
      },
      "execution_count": null,
      "outputs": []
    },
    {
      "cell_type": "code",
      "source": [
        "from sklearn.metrics import classification_report, confusion_matrix\n",
        "from sklearn.feature_extraction.text import TfidfVectorizer"
      ],
      "metadata": {
        "id": "b9a20dVxBhma"
      },
      "execution_count": null,
      "outputs": []
    },
    {
      "cell_type": "code",
      "source": [
        "import seaborn as sns"
      ],
      "metadata": {
        "id": "GOEBGvGjDjL6"
      },
      "execution_count": null,
      "outputs": []
    },
    {
      "cell_type": "markdown",
      "source": [
        "#Reading in Data"
      ],
      "metadata": {
        "id": "rvormly3Ej3N"
      }
    },
    {
      "cell_type": "code",
      "source": [
        "path = '/content/drive/MyDrive/MSIB Batch 6/Machine Learning & Deep Learning/sample_data.csv'"
      ],
      "metadata": {
        "id": "Pd0OP_vxy078"
      },
      "execution_count": null,
      "outputs": []
    },
    {
      "cell_type": "code",
      "source": [
        "df = pd.read_csv(path)"
      ],
      "metadata": {
        "id": "v8G9N0a31Bwz"
      },
      "execution_count": null,
      "outputs": []
    },
    {
      "cell_type": "code",
      "source": [
        "df.head(15)"
      ],
      "metadata": {
        "colab": {
          "base_uri": "https://localhost:8080/",
          "height": 745
        },
        "id": "1oSImP_x1Fda",
        "outputId": "620327d0-2158-4377-b526-43764492f987"
      },
      "execution_count": null,
      "outputs": [
        {
          "output_type": "execute_result",
          "data": {
            "text/plain": [
              "   Sentiment                                    Customer Review  \\\n",
              "0   Positive  Barang bagus, pengiriman juga cepat. Cuma minu...   \n",
              "1   Positive  LENGKAP BAGUS PENGIRIMAN CEPAT DAN TEPAT TERPE...   \n",
              "2   Positive           Bahan tipis, seller ramah, ekspedisi cpt   \n",
              "3   Positive  produk asli original. suplemen bagus tanpa efe...   \n",
              "4   Positive  Model dan warna aku suka tp pemasangan sedikit...   \n",
              "5   Positive                            mantap barangnya ??????   \n",
              "6   Positive         barang bagus sesuai gambar tapi gaberwarna   \n",
              "7   Positive  Respon seller sangat cepat dan ramah, packing ...   \n",
              "8   Positive     Respon cepat, barang dpt digunakan dengan baik   \n",
              "9   Positive  Bukunya bagus bgt semoga anakku suka.. pengema...   \n",
              "10  Positive  Baru dicoba untuk alas duduk beberapa jam, so ...   \n",
              "11  Positive  kado.harga paling murah pada saat beli , trims...   \n",
              "12  Positive  Adminnya ramah bgt asli, nanya apa aja dijawab...   \n",
              "13  Positive                                     Produk Sesuai.   \n",
              "14  Positive  Bahannya nyaman ??. Nyaman di punggung. Gampan...   \n",
              "\n",
              "                                               corpus  \n",
              "0   barang bagus, pengiriman juga cepat. cuma minu...  \n",
              "1   lengkap bagus pengiriman cepat dan tepat terpe...  \n",
              "2            bahan tipis, seller ramah, ekspedisi cpt  \n",
              "3   produk asli original. suplemen bagus tanpa efe...  \n",
              "4   model dan warna aku suka tp pemasangan sedikit...  \n",
              "5                             mantap barangnya ??????  \n",
              "6          barang bagus sesuai gambar tapi gaberwarna  \n",
              "7   respon seller sangat cepat dan ramah, packing ...  \n",
              "8      respon cepat, barang dpt digunakan dengan baik  \n",
              "9   bukunya bagus bgt semoga anakku suka.. pengema...  \n",
              "10  baru dicoba untuk alas duduk beberapa jam, so ...  \n",
              "11  kado.harga paling murah pada saat beli , trims...  \n",
              "12  adminnya ramah bgt asli, nanya apa aja dijawab...  \n",
              "13                                     produk sesuai.  \n",
              "14  bahannya nyaman ??. nyaman di punggung. gampan...  "
            ],
            "text/html": [
              "\n",
              "  <div id=\"df-0db7635c-2c36-4b26-8abd-e6d9a17d1c42\" class=\"colab-df-container\">\n",
              "    <div>\n",
              "<style scoped>\n",
              "    .dataframe tbody tr th:only-of-type {\n",
              "        vertical-align: middle;\n",
              "    }\n",
              "\n",
              "    .dataframe tbody tr th {\n",
              "        vertical-align: top;\n",
              "    }\n",
              "\n",
              "    .dataframe thead th {\n",
              "        text-align: right;\n",
              "    }\n",
              "</style>\n",
              "<table border=\"1\" class=\"dataframe\">\n",
              "  <thead>\n",
              "    <tr style=\"text-align: right;\">\n",
              "      <th></th>\n",
              "      <th>Sentiment</th>\n",
              "      <th>Customer Review</th>\n",
              "      <th>corpus</th>\n",
              "    </tr>\n",
              "  </thead>\n",
              "  <tbody>\n",
              "    <tr>\n",
              "      <th>0</th>\n",
              "      <td>Positive</td>\n",
              "      <td>Barang bagus, pengiriman juga cepat. Cuma minu...</td>\n",
              "      <td>barang bagus, pengiriman juga cepat. cuma minu...</td>\n",
              "    </tr>\n",
              "    <tr>\n",
              "      <th>1</th>\n",
              "      <td>Positive</td>\n",
              "      <td>LENGKAP BAGUS PENGIRIMAN CEPAT DAN TEPAT TERPE...</td>\n",
              "      <td>lengkap bagus pengiriman cepat dan tepat terpe...</td>\n",
              "    </tr>\n",
              "    <tr>\n",
              "      <th>2</th>\n",
              "      <td>Positive</td>\n",
              "      <td>Bahan tipis, seller ramah, ekspedisi cpt</td>\n",
              "      <td>bahan tipis, seller ramah, ekspedisi cpt</td>\n",
              "    </tr>\n",
              "    <tr>\n",
              "      <th>3</th>\n",
              "      <td>Positive</td>\n",
              "      <td>produk asli original. suplemen bagus tanpa efe...</td>\n",
              "      <td>produk asli original. suplemen bagus tanpa efe...</td>\n",
              "    </tr>\n",
              "    <tr>\n",
              "      <th>4</th>\n",
              "      <td>Positive</td>\n",
              "      <td>Model dan warna aku suka tp pemasangan sedikit...</td>\n",
              "      <td>model dan warna aku suka tp pemasangan sedikit...</td>\n",
              "    </tr>\n",
              "    <tr>\n",
              "      <th>5</th>\n",
              "      <td>Positive</td>\n",
              "      <td>mantap barangnya ??????</td>\n",
              "      <td>mantap barangnya ??????</td>\n",
              "    </tr>\n",
              "    <tr>\n",
              "      <th>6</th>\n",
              "      <td>Positive</td>\n",
              "      <td>barang bagus sesuai gambar tapi gaberwarna</td>\n",
              "      <td>barang bagus sesuai gambar tapi gaberwarna</td>\n",
              "    </tr>\n",
              "    <tr>\n",
              "      <th>7</th>\n",
              "      <td>Positive</td>\n",
              "      <td>Respon seller sangat cepat dan ramah, packing ...</td>\n",
              "      <td>respon seller sangat cepat dan ramah, packing ...</td>\n",
              "    </tr>\n",
              "    <tr>\n",
              "      <th>8</th>\n",
              "      <td>Positive</td>\n",
              "      <td>Respon cepat, barang dpt digunakan dengan baik</td>\n",
              "      <td>respon cepat, barang dpt digunakan dengan baik</td>\n",
              "    </tr>\n",
              "    <tr>\n",
              "      <th>9</th>\n",
              "      <td>Positive</td>\n",
              "      <td>Bukunya bagus bgt semoga anakku suka.. pengema...</td>\n",
              "      <td>bukunya bagus bgt semoga anakku suka.. pengema...</td>\n",
              "    </tr>\n",
              "    <tr>\n",
              "      <th>10</th>\n",
              "      <td>Positive</td>\n",
              "      <td>Baru dicoba untuk alas duduk beberapa jam, so ...</td>\n",
              "      <td>baru dicoba untuk alas duduk beberapa jam, so ...</td>\n",
              "    </tr>\n",
              "    <tr>\n",
              "      <th>11</th>\n",
              "      <td>Positive</td>\n",
              "      <td>kado.harga paling murah pada saat beli , trims...</td>\n",
              "      <td>kado.harga paling murah pada saat beli , trims...</td>\n",
              "    </tr>\n",
              "    <tr>\n",
              "      <th>12</th>\n",
              "      <td>Positive</td>\n",
              "      <td>Adminnya ramah bgt asli, nanya apa aja dijawab...</td>\n",
              "      <td>adminnya ramah bgt asli, nanya apa aja dijawab...</td>\n",
              "    </tr>\n",
              "    <tr>\n",
              "      <th>13</th>\n",
              "      <td>Positive</td>\n",
              "      <td>Produk Sesuai.</td>\n",
              "      <td>produk sesuai.</td>\n",
              "    </tr>\n",
              "    <tr>\n",
              "      <th>14</th>\n",
              "      <td>Positive</td>\n",
              "      <td>Bahannya nyaman ??. Nyaman di punggung. Gampan...</td>\n",
              "      <td>bahannya nyaman ??. nyaman di punggung. gampan...</td>\n",
              "    </tr>\n",
              "  </tbody>\n",
              "</table>\n",
              "</div>\n",
              "    <div class=\"colab-df-buttons\">\n",
              "\n",
              "  <div class=\"colab-df-container\">\n",
              "    <button class=\"colab-df-convert\" onclick=\"convertToInteractive('df-0db7635c-2c36-4b26-8abd-e6d9a17d1c42')\"\n",
              "            title=\"Convert this dataframe to an interactive table.\"\n",
              "            style=\"display:none;\">\n",
              "\n",
              "  <svg xmlns=\"http://www.w3.org/2000/svg\" height=\"24px\" viewBox=\"0 -960 960 960\">\n",
              "    <path d=\"M120-120v-720h720v720H120Zm60-500h600v-160H180v160Zm220 220h160v-160H400v160Zm0 220h160v-160H400v160ZM180-400h160v-160H180v160Zm440 0h160v-160H620v160ZM180-180h160v-160H180v160Zm440 0h160v-160H620v160Z\"/>\n",
              "  </svg>\n",
              "    </button>\n",
              "\n",
              "  <style>\n",
              "    .colab-df-container {\n",
              "      display:flex;\n",
              "      gap: 12px;\n",
              "    }\n",
              "\n",
              "    .colab-df-convert {\n",
              "      background-color: #E8F0FE;\n",
              "      border: none;\n",
              "      border-radius: 50%;\n",
              "      cursor: pointer;\n",
              "      display: none;\n",
              "      fill: #1967D2;\n",
              "      height: 32px;\n",
              "      padding: 0 0 0 0;\n",
              "      width: 32px;\n",
              "    }\n",
              "\n",
              "    .colab-df-convert:hover {\n",
              "      background-color: #E2EBFA;\n",
              "      box-shadow: 0px 1px 2px rgba(60, 64, 67, 0.3), 0px 1px 3px 1px rgba(60, 64, 67, 0.15);\n",
              "      fill: #174EA6;\n",
              "    }\n",
              "\n",
              "    .colab-df-buttons div {\n",
              "      margin-bottom: 4px;\n",
              "    }\n",
              "\n",
              "    [theme=dark] .colab-df-convert {\n",
              "      background-color: #3B4455;\n",
              "      fill: #D2E3FC;\n",
              "    }\n",
              "\n",
              "    [theme=dark] .colab-df-convert:hover {\n",
              "      background-color: #434B5C;\n",
              "      box-shadow: 0px 1px 3px 1px rgba(0, 0, 0, 0.15);\n",
              "      filter: drop-shadow(0px 1px 2px rgba(0, 0, 0, 0.3));\n",
              "      fill: #FFFFFF;\n",
              "    }\n",
              "  </style>\n",
              "\n",
              "    <script>\n",
              "      const buttonEl =\n",
              "        document.querySelector('#df-0db7635c-2c36-4b26-8abd-e6d9a17d1c42 button.colab-df-convert');\n",
              "      buttonEl.style.display =\n",
              "        google.colab.kernel.accessAllowed ? 'block' : 'none';\n",
              "\n",
              "      async function convertToInteractive(key) {\n",
              "        const element = document.querySelector('#df-0db7635c-2c36-4b26-8abd-e6d9a17d1c42');\n",
              "        const dataTable =\n",
              "          await google.colab.kernel.invokeFunction('convertToInteractive',\n",
              "                                                    [key], {});\n",
              "        if (!dataTable) return;\n",
              "\n",
              "        const docLinkHtml = 'Like what you see? Visit the ' +\n",
              "          '<a target=\"_blank\" href=https://colab.research.google.com/notebooks/data_table.ipynb>data table notebook</a>'\n",
              "          + ' to learn more about interactive tables.';\n",
              "        element.innerHTML = '';\n",
              "        dataTable['output_type'] = 'display_data';\n",
              "        await google.colab.output.renderOutput(dataTable, element);\n",
              "        const docLink = document.createElement('div');\n",
              "        docLink.innerHTML = docLinkHtml;\n",
              "        element.appendChild(docLink);\n",
              "      }\n",
              "    </script>\n",
              "  </div>\n",
              "\n",
              "\n",
              "<div id=\"df-565fbf9b-8805-4e2c-a65f-734eafa3643a\">\n",
              "  <button class=\"colab-df-quickchart\" onclick=\"quickchart('df-565fbf9b-8805-4e2c-a65f-734eafa3643a')\"\n",
              "            title=\"Suggest charts\"\n",
              "            style=\"display:none;\">\n",
              "\n",
              "<svg xmlns=\"http://www.w3.org/2000/svg\" height=\"24px\"viewBox=\"0 0 24 24\"\n",
              "     width=\"24px\">\n",
              "    <g>\n",
              "        <path d=\"M19 3H5c-1.1 0-2 .9-2 2v14c0 1.1.9 2 2 2h14c1.1 0 2-.9 2-2V5c0-1.1-.9-2-2-2zM9 17H7v-7h2v7zm4 0h-2V7h2v10zm4 0h-2v-4h2v4z\"/>\n",
              "    </g>\n",
              "</svg>\n",
              "  </button>\n",
              "\n",
              "<style>\n",
              "  .colab-df-quickchart {\n",
              "      --bg-color: #E8F0FE;\n",
              "      --fill-color: #1967D2;\n",
              "      --hover-bg-color: #E2EBFA;\n",
              "      --hover-fill-color: #174EA6;\n",
              "      --disabled-fill-color: #AAA;\n",
              "      --disabled-bg-color: #DDD;\n",
              "  }\n",
              "\n",
              "  [theme=dark] .colab-df-quickchart {\n",
              "      --bg-color: #3B4455;\n",
              "      --fill-color: #D2E3FC;\n",
              "      --hover-bg-color: #434B5C;\n",
              "      --hover-fill-color: #FFFFFF;\n",
              "      --disabled-bg-color: #3B4455;\n",
              "      --disabled-fill-color: #666;\n",
              "  }\n",
              "\n",
              "  .colab-df-quickchart {\n",
              "    background-color: var(--bg-color);\n",
              "    border: none;\n",
              "    border-radius: 50%;\n",
              "    cursor: pointer;\n",
              "    display: none;\n",
              "    fill: var(--fill-color);\n",
              "    height: 32px;\n",
              "    padding: 0;\n",
              "    width: 32px;\n",
              "  }\n",
              "\n",
              "  .colab-df-quickchart:hover {\n",
              "    background-color: var(--hover-bg-color);\n",
              "    box-shadow: 0 1px 2px rgba(60, 64, 67, 0.3), 0 1px 3px 1px rgba(60, 64, 67, 0.15);\n",
              "    fill: var(--button-hover-fill-color);\n",
              "  }\n",
              "\n",
              "  .colab-df-quickchart-complete:disabled,\n",
              "  .colab-df-quickchart-complete:disabled:hover {\n",
              "    background-color: var(--disabled-bg-color);\n",
              "    fill: var(--disabled-fill-color);\n",
              "    box-shadow: none;\n",
              "  }\n",
              "\n",
              "  .colab-df-spinner {\n",
              "    border: 2px solid var(--fill-color);\n",
              "    border-color: transparent;\n",
              "    border-bottom-color: var(--fill-color);\n",
              "    animation:\n",
              "      spin 1s steps(1) infinite;\n",
              "  }\n",
              "\n",
              "  @keyframes spin {\n",
              "    0% {\n",
              "      border-color: transparent;\n",
              "      border-bottom-color: var(--fill-color);\n",
              "      border-left-color: var(--fill-color);\n",
              "    }\n",
              "    20% {\n",
              "      border-color: transparent;\n",
              "      border-left-color: var(--fill-color);\n",
              "      border-top-color: var(--fill-color);\n",
              "    }\n",
              "    30% {\n",
              "      border-color: transparent;\n",
              "      border-left-color: var(--fill-color);\n",
              "      border-top-color: var(--fill-color);\n",
              "      border-right-color: var(--fill-color);\n",
              "    }\n",
              "    40% {\n",
              "      border-color: transparent;\n",
              "      border-right-color: var(--fill-color);\n",
              "      border-top-color: var(--fill-color);\n",
              "    }\n",
              "    60% {\n",
              "      border-color: transparent;\n",
              "      border-right-color: var(--fill-color);\n",
              "    }\n",
              "    80% {\n",
              "      border-color: transparent;\n",
              "      border-right-color: var(--fill-color);\n",
              "      border-bottom-color: var(--fill-color);\n",
              "    }\n",
              "    90% {\n",
              "      border-color: transparent;\n",
              "      border-bottom-color: var(--fill-color);\n",
              "    }\n",
              "  }\n",
              "</style>\n",
              "\n",
              "  <script>\n",
              "    async function quickchart(key) {\n",
              "      const quickchartButtonEl =\n",
              "        document.querySelector('#' + key + ' button');\n",
              "      quickchartButtonEl.disabled = true;  // To prevent multiple clicks.\n",
              "      quickchartButtonEl.classList.add('colab-df-spinner');\n",
              "      try {\n",
              "        const charts = await google.colab.kernel.invokeFunction(\n",
              "            'suggestCharts', [key], {});\n",
              "      } catch (error) {\n",
              "        console.error('Error during call to suggestCharts:', error);\n",
              "      }\n",
              "      quickchartButtonEl.classList.remove('colab-df-spinner');\n",
              "      quickchartButtonEl.classList.add('colab-df-quickchart-complete');\n",
              "    }\n",
              "    (() => {\n",
              "      let quickchartButtonEl =\n",
              "        document.querySelector('#df-565fbf9b-8805-4e2c-a65f-734eafa3643a button');\n",
              "      quickchartButtonEl.style.display =\n",
              "        google.colab.kernel.accessAllowed ? 'block' : 'none';\n",
              "    })();\n",
              "  </script>\n",
              "</div>\n",
              "    </div>\n",
              "  </div>\n"
            ],
            "application/vnd.google.colaboratory.intrinsic+json": {
              "type": "dataframe",
              "variable_name": "df",
              "summary": "{\n  \"name\": \"df\",\n  \"rows\": 1200,\n  \"fields\": [\n    {\n      \"column\": \"Sentiment\",\n      \"properties\": {\n        \"dtype\": \"category\",\n        \"num_unique_values\": 2,\n        \"samples\": [\n          \"Negative\",\n          \"Positive\"\n        ],\n        \"semantic_type\": \"\",\n        \"description\": \"\"\n      }\n    },\n    {\n      \"column\": \"Customer Review\",\n      \"properties\": {\n        \"dtype\": \"string\",\n        \"num_unique_values\": 1196,\n        \"samples\": [\n          \"saat diterima tutup wajan ad yg bermasalah dan di wajannya ad goresan. bermasalahnya bukan krn proses pengiriman. tapi emang dari sononya cacat. kecewa dengan respon penjual yang bilang goresannya g masalah. Padahal saya kan beli baru, beli wajan anti gores malah terima yang bergores dan kualitas bermasalah. lgs ajukan komplain. sdh terima wajannya lagi yang tidak gores, cuma tetep bbrp yg mengecewakan. kecewa.. jadi lama dan saya harus repot ngurus pengembalian barangnya. kalau mw jual yang diskon jangan kasih yang kualitasnya g bagus. atau sampaikan aja produknya ad bbrp bermasalah makanya dikasih diskon. resiko beli online. semoga awet\",\n          \"mantab, barangnya kokoh kualitas Ok,mau pesen satu lagi\"\n        ],\n        \"semantic_type\": \"\",\n        \"description\": \"\"\n      }\n    },\n    {\n      \"column\": \"corpus\",\n      \"properties\": {\n        \"dtype\": \"string\",\n        \"num_unique_values\": 1192,\n        \"samples\": [\n          \"produk tidak bagus\",\n          \"produk berjalan dengan lancar dna sangat membantu bila bepergian keluar negeri\"\n        ],\n        \"semantic_type\": \"\",\n        \"description\": \"\"\n      }\n    }\n  ]\n}"
            }
          },
          "metadata": {},
          "execution_count": 10
        }
      ]
    },
    {
      "cell_type": "code",
      "source": [
        "df.shape"
      ],
      "metadata": {
        "colab": {
          "base_uri": "https://localhost:8080/"
        },
        "id": "3HM4RSqP1K0U",
        "outputId": "213f4cb5-aadc-4178-f89f-05310906f91e"
      },
      "execution_count": null,
      "outputs": [
        {
          "output_type": "execute_result",
          "data": {
            "text/plain": [
              "(1200, 3)"
            ]
          },
          "metadata": {},
          "execution_count": 8
        }
      ]
    },
    {
      "cell_type": "code",
      "source": [
        "df.Sentiment.value_counts()"
      ],
      "metadata": {
        "colab": {
          "base_uri": "https://localhost:8080/"
        },
        "id": "oLsa0Mkz1Pbo",
        "outputId": "51d7f993-bff8-4a49-b504-f13511afb176"
      },
      "execution_count": null,
      "outputs": [
        {
          "output_type": "execute_result",
          "data": {
            "text/plain": [
              "Sentiment\n",
              "Positive    600\n",
              "Negative    600\n",
              "Name: count, dtype: int64"
            ]
          },
          "metadata": {},
          "execution_count": 12
        }
      ]
    },
    {
      "cell_type": "code",
      "source": [
        "df.isnull().sum()"
      ],
      "metadata": {
        "colab": {
          "base_uri": "https://localhost:8080/"
        },
        "id": "qF_bFYJUAXds",
        "outputId": "d57c45ab-b30d-4e34-c5b1-eb6175a5228c"
      },
      "execution_count": null,
      "outputs": [
        {
          "output_type": "execute_result",
          "data": {
            "text/plain": [
              "Sentiment          0\n",
              "Customer Review    0\n",
              "corpus             0\n",
              "dtype: int64"
            ]
          },
          "metadata": {},
          "execution_count": 13
        }
      ]
    },
    {
      "cell_type": "markdown",
      "source": [
        "#Modeling"
      ],
      "metadata": {
        "id": "j0_wrF38D83C"
      }
    },
    {
      "cell_type": "code",
      "source": [
        "x, y = df.corpus, df.Sentiment"
      ],
      "metadata": {
        "id": "U4F3waaeBf2j"
      },
      "execution_count": null,
      "outputs": []
    },
    {
      "cell_type": "code",
      "source": [
        "vectorizer = TfidfVectorizer()\n",
        "X = vectorizer.fit_transform(x)"
      ],
      "metadata": {
        "id": "JFVc8JDZB5Kx"
      },
      "execution_count": null,
      "outputs": []
    },
    {
      "cell_type": "code",
      "source": [
        "from sklearn.model_selection import train_test_split\n",
        "X_train, X_test, y_train, y_test = train_test_split(X, y, test_size = 0.3)\n",
        "print(\"Train size: \", X_train.shape)\n",
        "print(\"Test size: \", X_test.shape)"
      ],
      "metadata": {
        "colab": {
          "base_uri": "https://localhost:8080/"
        },
        "id": "9WaDn6vzCBls",
        "outputId": "e74422da-6559-445a-983c-12c140f14113"
      },
      "execution_count": null,
      "outputs": [
        {
          "output_type": "stream",
          "name": "stdout",
          "text": [
            "Train size:  (840, 3680)\n",
            "Test size:  (360, 3680)\n"
          ]
        }
      ]
    },
    {
      "cell_type": "code",
      "source": [
        "from sklearn.svm import SVC\n",
        "\n",
        "model = SVC()\n",
        "model.fit(X_train, y_train)\n",
        "y_pred = model.predict(X_test)\n",
        "print(classification_report(y_test, y_pred))"
      ],
      "metadata": {
        "colab": {
          "base_uri": "https://localhost:8080/"
        },
        "id": "VxK6byJmChAZ",
        "outputId": "3a3f1fc7-8ffb-497a-e25b-6de0afb94503"
      },
      "execution_count": null,
      "outputs": [
        {
          "output_type": "stream",
          "name": "stdout",
          "text": [
            "              precision    recall  f1-score   support\n",
            "\n",
            "    Negative       0.90      0.96      0.93       189\n",
            "    Positive       0.95      0.88      0.92       171\n",
            "\n",
            "    accuracy                           0.92       360\n",
            "   macro avg       0.93      0.92      0.92       360\n",
            "weighted avg       0.92      0.92      0.92       360\n",
            "\n"
          ]
        }
      ]
    },
    {
      "cell_type": "code",
      "source": [
        "sns.heatmap(confusion_matrix(y_test, y_pred), annot = True)"
      ],
      "metadata": {
        "colab": {
          "base_uri": "https://localhost:8080/",
          "height": 450
        },
        "id": "avqrIRwLDYCW",
        "outputId": "109000c6-7486-4f5d-9e9b-a21135d5a919"
      },
      "execution_count": null,
      "outputs": [
        {
          "output_type": "execute_result",
          "data": {
            "text/plain": [
              "<Axes: >"
            ]
          },
          "metadata": {},
          "execution_count": 24
        },
        {
          "output_type": "display_data",
          "data": {
            "text/plain": [
              "<Figure size 640x480 with 2 Axes>"
            ],
            "image/png": "[encoded data removed]"
          },
          "metadata": {}
        }
      ]
    }
  ]
}